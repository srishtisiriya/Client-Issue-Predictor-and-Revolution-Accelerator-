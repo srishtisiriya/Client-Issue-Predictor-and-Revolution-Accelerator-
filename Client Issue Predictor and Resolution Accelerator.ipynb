{
 "cells": [
  {
   "cell_type": "code",
   "execution_count": 71,
   "id": "1a70ab0d",
   "metadata": {},
   "outputs": [
    {
     "data": {
      "text/html": [
       "<div>\n",
       "<style scoped>\n",
       "    .dataframe tbody tr th:only-of-type {\n",
       "        vertical-align: middle;\n",
       "    }\n",
       "\n",
       "    .dataframe tbody tr th {\n",
       "        vertical-align: top;\n",
       "    }\n",
       "\n",
       "    .dataframe thead th {\n",
       "        text-align: right;\n",
       "    }\n",
       "</style>\n",
       "<table border=\"1\" class=\"dataframe\">\n",
       "  <thead>\n",
       "    <tr style=\"text-align: right;\">\n",
       "      <th></th>\n",
       "      <th>Ticket ID</th>\n",
       "      <th>Customer Name</th>\n",
       "      <th>Customer Email</th>\n",
       "      <th>Customer Age</th>\n",
       "      <th>Customer Gender</th>\n",
       "      <th>Product Purchased</th>\n",
       "      <th>Date of Purchase</th>\n",
       "      <th>Ticket Type</th>\n",
       "      <th>Ticket Subject</th>\n",
       "      <th>Ticket Description</th>\n",
       "      <th>Ticket Status</th>\n",
       "      <th>Resolution</th>\n",
       "      <th>Ticket Priority</th>\n",
       "      <th>Ticket Channel</th>\n",
       "      <th>First Response Time</th>\n",
       "      <th>Time to Resolution</th>\n",
       "      <th>Customer Satisfaction Rating</th>\n",
       "    </tr>\n",
       "  </thead>\n",
       "  <tbody>\n",
       "    <tr>\n",
       "      <th>0</th>\n",
       "      <td>1</td>\n",
       "      <td>Marisa Obrien</td>\n",
       "      <td>carrollallison@example.com</td>\n",
       "      <td>32</td>\n",
       "      <td>Other</td>\n",
       "      <td>GoPro Hero</td>\n",
       "      <td>2021-03-22</td>\n",
       "      <td>Technical issue</td>\n",
       "      <td>Product setup</td>\n",
       "      <td>I'm having an issue with the {product_purchase...</td>\n",
       "      <td>Pending Customer Response</td>\n",
       "      <td>NaN</td>\n",
       "      <td>Critical</td>\n",
       "      <td>Social media</td>\n",
       "      <td>2023-06-01 12:15:36</td>\n",
       "      <td>NaN</td>\n",
       "      <td>NaN</td>\n",
       "    </tr>\n",
       "    <tr>\n",
       "      <th>1</th>\n",
       "      <td>2</td>\n",
       "      <td>Jessica Rios</td>\n",
       "      <td>clarkeashley@example.com</td>\n",
       "      <td>42</td>\n",
       "      <td>Female</td>\n",
       "      <td>LG Smart TV</td>\n",
       "      <td>2021-05-22</td>\n",
       "      <td>Technical issue</td>\n",
       "      <td>Peripheral compatibility</td>\n",
       "      <td>I'm having an issue with the {product_purchase...</td>\n",
       "      <td>Pending Customer Response</td>\n",
       "      <td>NaN</td>\n",
       "      <td>Critical</td>\n",
       "      <td>Chat</td>\n",
       "      <td>2023-06-01 16:45:38</td>\n",
       "      <td>NaN</td>\n",
       "      <td>NaN</td>\n",
       "    </tr>\n",
       "    <tr>\n",
       "      <th>2</th>\n",
       "      <td>3</td>\n",
       "      <td>Christopher Robbins</td>\n",
       "      <td>gonzalestracy@example.com</td>\n",
       "      <td>48</td>\n",
       "      <td>Other</td>\n",
       "      <td>Dell XPS</td>\n",
       "      <td>2020-07-14</td>\n",
       "      <td>Technical issue</td>\n",
       "      <td>Network problem</td>\n",
       "      <td>I'm facing a problem with my {product_purchase...</td>\n",
       "      <td>Closed</td>\n",
       "      <td>Case maybe show recently my computer follow.</td>\n",
       "      <td>Low</td>\n",
       "      <td>Social media</td>\n",
       "      <td>2023-06-01 11:14:38</td>\n",
       "      <td>2023-06-01 18:05:38</td>\n",
       "      <td>3.0</td>\n",
       "    </tr>\n",
       "    <tr>\n",
       "      <th>3</th>\n",
       "      <td>4</td>\n",
       "      <td>Christina Dillon</td>\n",
       "      <td>bradleyolson@example.org</td>\n",
       "      <td>27</td>\n",
       "      <td>Female</td>\n",
       "      <td>Microsoft Office</td>\n",
       "      <td>2020-11-13</td>\n",
       "      <td>Billing inquiry</td>\n",
       "      <td>Account access</td>\n",
       "      <td>I'm having an issue with the {product_purchase...</td>\n",
       "      <td>Closed</td>\n",
       "      <td>Try capital clearly never color toward story.</td>\n",
       "      <td>Low</td>\n",
       "      <td>Social media</td>\n",
       "      <td>2023-06-01 07:29:40</td>\n",
       "      <td>2023-06-01 01:57:40</td>\n",
       "      <td>3.0</td>\n",
       "    </tr>\n",
       "    <tr>\n",
       "      <th>4</th>\n",
       "      <td>5</td>\n",
       "      <td>Alexander Carroll</td>\n",
       "      <td>bradleymark@example.com</td>\n",
       "      <td>67</td>\n",
       "      <td>Female</td>\n",
       "      <td>Autodesk AutoCAD</td>\n",
       "      <td>2020-02-04</td>\n",
       "      <td>Billing inquiry</td>\n",
       "      <td>Data loss</td>\n",
       "      <td>I'm having an issue with the {product_purchase...</td>\n",
       "      <td>Closed</td>\n",
       "      <td>West decision evidence bit.</td>\n",
       "      <td>Low</td>\n",
       "      <td>Email</td>\n",
       "      <td>2023-06-01 00:12:42</td>\n",
       "      <td>2023-06-01 19:53:42</td>\n",
       "      <td>1.0</td>\n",
       "    </tr>\n",
       "  </tbody>\n",
       "</table>\n",
       "</div>"
      ],
      "text/plain": [
       "   Ticket ID        Customer Name              Customer Email  Customer Age  \\\n",
       "0          1        Marisa Obrien  carrollallison@example.com            32   \n",
       "1          2         Jessica Rios    clarkeashley@example.com            42   \n",
       "2          3  Christopher Robbins   gonzalestracy@example.com            48   \n",
       "3          4     Christina Dillon    bradleyolson@example.org            27   \n",
       "4          5    Alexander Carroll     bradleymark@example.com            67   \n",
       "\n",
       "  Customer Gender Product Purchased Date of Purchase      Ticket Type  \\\n",
       "0           Other        GoPro Hero       2021-03-22  Technical issue   \n",
       "1          Female       LG Smart TV       2021-05-22  Technical issue   \n",
       "2           Other          Dell XPS       2020-07-14  Technical issue   \n",
       "3          Female  Microsoft Office       2020-11-13  Billing inquiry   \n",
       "4          Female  Autodesk AutoCAD       2020-02-04  Billing inquiry   \n",
       "\n",
       "             Ticket Subject  \\\n",
       "0             Product setup   \n",
       "1  Peripheral compatibility   \n",
       "2           Network problem   \n",
       "3            Account access   \n",
       "4                 Data loss   \n",
       "\n",
       "                                  Ticket Description  \\\n",
       "0  I'm having an issue with the {product_purchase...   \n",
       "1  I'm having an issue with the {product_purchase...   \n",
       "2  I'm facing a problem with my {product_purchase...   \n",
       "3  I'm having an issue with the {product_purchase...   \n",
       "4  I'm having an issue with the {product_purchase...   \n",
       "\n",
       "               Ticket Status                                     Resolution  \\\n",
       "0  Pending Customer Response                                            NaN   \n",
       "1  Pending Customer Response                                            NaN   \n",
       "2                     Closed   Case maybe show recently my computer follow.   \n",
       "3                     Closed  Try capital clearly never color toward story.   \n",
       "4                     Closed                    West decision evidence bit.   \n",
       "\n",
       "  Ticket Priority Ticket Channel  First Response Time   Time to Resolution  \\\n",
       "0        Critical   Social media  2023-06-01 12:15:36                  NaN   \n",
       "1        Critical           Chat  2023-06-01 16:45:38                  NaN   \n",
       "2             Low   Social media  2023-06-01 11:14:38  2023-06-01 18:05:38   \n",
       "3             Low   Social media  2023-06-01 07:29:40  2023-06-01 01:57:40   \n",
       "4             Low          Email  2023-06-01 00:12:42  2023-06-01 19:53:42   \n",
       "\n",
       "   Customer Satisfaction Rating  \n",
       "0                           NaN  \n",
       "1                           NaN  \n",
       "2                           3.0  \n",
       "3                           3.0  \n",
       "4                           1.0  "
      ]
     },
     "execution_count": 71,
     "metadata": {},
     "output_type": "execute_result"
    }
   ],
   "source": [
    "import pandas as pd\n",
    "import numpy as np\n",
    "from sklearn.model_selection import train_test_split\n",
    "from sklearn.linear_model import LinearRegression\n",
    "from sklearn.metrics import mean_absolute_error, mean_squared_error, r2_score\n",
    "from sklearn.impute import SimpleImputer\n",
    "\n",
    "# Load the dataset\n",
    "data = pd.read_csv(\"C:\\\\Users\\\\Srishti\\\\Downloads\\\\customer_support_tickets.csv.zip\")\n",
    "\n",
    "# Display the first few rows of the dataset\n",
    "data.head()\n"
   ]
  },
  {
   "cell_type": "code",
   "execution_count": 69,
   "id": "742c6248",
   "metadata": {},
   "outputs": [],
   "source": [
    "# Re-import necessary libraries\n",
    "from sklearn.ensemble import RandomForestClassifier\n",
    "import numpy as np\n"
   ]
  },
  {
   "cell_type": "code",
   "execution_count": 70,
   "id": "98077145",
   "metadata": {},
   "outputs": [
    {
     "data": {
      "text/html": [
       "<style>#sk-container-id-1 {color: black;background-color: white;}#sk-container-id-1 pre{padding: 0;}#sk-container-id-1 div.sk-toggleable {background-color: white;}#sk-container-id-1 label.sk-toggleable__label {cursor: pointer;display: block;width: 100%;margin-bottom: 0;padding: 0.3em;box-sizing: border-box;text-align: center;}#sk-container-id-1 label.sk-toggleable__label-arrow:before {content: \"▸\";float: left;margin-right: 0.25em;color: #696969;}#sk-container-id-1 label.sk-toggleable__label-arrow:hover:before {color: black;}#sk-container-id-1 div.sk-estimator:hover label.sk-toggleable__label-arrow:before {color: black;}#sk-container-id-1 div.sk-toggleable__content {max-height: 0;max-width: 0;overflow: hidden;text-align: left;background-color: #f0f8ff;}#sk-container-id-1 div.sk-toggleable__content pre {margin: 0.2em;color: black;border-radius: 0.25em;background-color: #f0f8ff;}#sk-container-id-1 input.sk-toggleable__control:checked~div.sk-toggleable__content {max-height: 200px;max-width: 100%;overflow: auto;}#sk-container-id-1 input.sk-toggleable__control:checked~label.sk-toggleable__label-arrow:before {content: \"▾\";}#sk-container-id-1 div.sk-estimator input.sk-toggleable__control:checked~label.sk-toggleable__label {background-color: #d4ebff;}#sk-container-id-1 div.sk-label input.sk-toggleable__control:checked~label.sk-toggleable__label {background-color: #d4ebff;}#sk-container-id-1 input.sk-hidden--visually {border: 0;clip: rect(1px 1px 1px 1px);clip: rect(1px, 1px, 1px, 1px);height: 1px;margin: -1px;overflow: hidden;padding: 0;position: absolute;width: 1px;}#sk-container-id-1 div.sk-estimator {font-family: monospace;background-color: #f0f8ff;border: 1px dotted black;border-radius: 0.25em;box-sizing: border-box;margin-bottom: 0.5em;}#sk-container-id-1 div.sk-estimator:hover {background-color: #d4ebff;}#sk-container-id-1 div.sk-parallel-item::after {content: \"\";width: 100%;border-bottom: 1px solid gray;flex-grow: 1;}#sk-container-id-1 div.sk-label:hover label.sk-toggleable__label {background-color: #d4ebff;}#sk-container-id-1 div.sk-serial::before {content: \"\";position: absolute;border-left: 1px solid gray;box-sizing: border-box;top: 0;bottom: 0;left: 50%;z-index: 0;}#sk-container-id-1 div.sk-serial {display: flex;flex-direction: column;align-items: center;background-color: white;padding-right: 0.2em;padding-left: 0.2em;position: relative;}#sk-container-id-1 div.sk-item {position: relative;z-index: 1;}#sk-container-id-1 div.sk-parallel {display: flex;align-items: stretch;justify-content: center;background-color: white;position: relative;}#sk-container-id-1 div.sk-item::before, #sk-container-id-1 div.sk-parallel-item::before {content: \"\";position: absolute;border-left: 1px solid gray;box-sizing: border-box;top: 0;bottom: 0;left: 50%;z-index: -1;}#sk-container-id-1 div.sk-parallel-item {display: flex;flex-direction: column;z-index: 1;position: relative;background-color: white;}#sk-container-id-1 div.sk-parallel-item:first-child::after {align-self: flex-end;width: 50%;}#sk-container-id-1 div.sk-parallel-item:last-child::after {align-self: flex-start;width: 50%;}#sk-container-id-1 div.sk-parallel-item:only-child::after {width: 0;}#sk-container-id-1 div.sk-dashed-wrapped {border: 1px dashed gray;margin: 0 0.4em 0.5em 0.4em;box-sizing: border-box;padding-bottom: 0.4em;background-color: white;}#sk-container-id-1 div.sk-label label {font-family: monospace;font-weight: bold;display: inline-block;line-height: 1.2em;}#sk-container-id-1 div.sk-label-container {text-align: center;}#sk-container-id-1 div.sk-container {/* jupyter's `normalize.less` sets `[hidden] { display: none; }` but bootstrap.min.css set `[hidden] { display: none !important; }` so we also need the `!important` here to be able to override the default hidden behavior on the sphinx rendered scikit-learn.org. See: https://github.com/scikit-learn/scikit-learn/issues/21755 */display: inline-block !important;position: relative;}#sk-container-id-1 div.sk-text-repr-fallback {display: none;}</style><div id=\"sk-container-id-1\" class=\"sk-top-container\"><div class=\"sk-text-repr-fallback\"><pre>RandomForestClassifier(random_state=42)</pre><b>In a Jupyter environment, please rerun this cell to show the HTML representation or trust the notebook. <br />On GitHub, the HTML representation is unable to render, please try loading this page with nbviewer.org.</b></div><div class=\"sk-container\" hidden><div class=\"sk-item\"><div class=\"sk-estimator sk-toggleable\"><input class=\"sk-toggleable__control sk-hidden--visually\" id=\"sk-estimator-id-1\" type=\"checkbox\" checked><label for=\"sk-estimator-id-1\" class=\"sk-toggleable__label sk-toggleable__label-arrow\">RandomForestClassifier</label><div class=\"sk-toggleable__content\"><pre>RandomForestClassifier(random_state=42)</pre></div></div></div></div></div>"
      ],
      "text/plain": [
       "RandomForestClassifier(random_state=42)"
      ]
     },
     "execution_count": 70,
     "metadata": {},
     "output_type": "execute_result"
    }
   ],
   "source": [
    "# Remove rows with NaN values in the target variable (if any)\n",
    "X_train_split_clean = X_train_split[~np.isnan(y_train_split)]\n",
    "y_train_split_clean = y_train_split[~np.isnan(y_train_split)]\n",
    "\n",
    "# Re-initialize the model (since the kernel was restarted)\n",
    "rf_model = RandomForestClassifier(n_estimators=100, random_state=42)\n",
    "\n",
    "# Now train the model with cleaned data\n",
    "rf_model.fit(X_train_split_clean, y_train_split_clean)\n",
    "\n",
    "# You can now use the trained model for prediction or evaluation\n"
   ]
  },
  {
   "cell_type": "code",
   "execution_count": 72,
   "id": "6825e7b2",
   "metadata": {},
   "outputs": [
    {
     "name": "stdout",
     "output_type": "stream",
     "text": [
      "Ticket ID                         int64\n",
      "Customer Name                    object\n",
      "Customer Email                   object\n",
      "Customer Age                      int64\n",
      "Customer Gender                  object\n",
      "Product Purchased                object\n",
      "Date of Purchase                 object\n",
      "Ticket Type                      object\n",
      "Ticket Subject                   object\n",
      "Ticket Description               object\n",
      "Ticket Status                    object\n",
      "Resolution                       object\n",
      "Ticket Priority                  object\n",
      "Ticket Channel                   object\n",
      "First Response Time              object\n",
      "Time to Resolution               object\n",
      "Customer Satisfaction Rating    float64\n",
      "dtype: object\n",
      "   First Response Time   Time to Resolution\n",
      "0  2023-06-01 12:15:36                  NaN\n",
      "1  2023-06-01 16:45:38                  NaN\n",
      "2  2023-06-01 11:14:38  2023-06-01 18:05:38\n",
      "3  2023-06-01 07:29:40  2023-06-01 01:57:40\n",
      "4  2023-06-01 00:12:42  2023-06-01 19:53:42\n"
     ]
    }
   ],
   "source": [
    "# Display data types of all columns\n",
    "print(data.dtypes)\n",
    "\n",
    "# Display sample values to inspect the format\n",
    "print(data[['First Response Time', 'Time to Resolution']].head())"
   ]
  },
  {
   "cell_type": "code",
   "execution_count": 73,
   "id": "549405c9",
   "metadata": {},
   "outputs": [
    {
     "name": "stdout",
     "output_type": "stream",
     "text": [
      "0   2021-03-22\n",
      "1   2021-05-22\n",
      "2   2020-07-14\n",
      "3   2020-11-13\n",
      "4   2020-02-04\n",
      "Name: Date of Purchase, dtype: datetime64[ns]\n"
     ]
    }
   ],
   "source": [
    "# Convert 'Date of Purchase' to datetime\n",
    "data['Date of Purchase'] = pd.to_datetime(data['Date of Purchase'], errors='coerce')\n",
    "\n",
    "# Check the conversion\n",
    "print(data['Date of Purchase'].head())\n"
   ]
  },
  {
   "cell_type": "code",
   "execution_count": 74,
   "id": "fb6112b8",
   "metadata": {},
   "outputs": [
    {
     "name": "stdout",
     "output_type": "stream",
     "text": [
      "  First Response Time  Time to Resolution\n",
      "0                 NaT                 NaN\n",
      "1                 NaT                 NaN\n",
      "2                 NaT                 NaN\n",
      "3                 NaT                 NaN\n",
      "4                 NaT                 NaN\n"
     ]
    }
   ],
   "source": [
    "# Convert 'First Response Time' to timedelta (if it's not already)\n",
    "data['First Response Time'] = pd.to_timedelta(data['First Response Time'], errors='coerce')\n",
    "\n",
    "# Convert 'Time to Resolution' to numeric (if it's not already)\n",
    "data['Time to Resolution'] = pd.to_numeric(data['Time to Resolution'], errors='coerce')\n",
    "\n",
    "# Check the conversion\n",
    "print(data[['First Response Time', 'Time to Resolution']].head())\n"
   ]
  },
  {
   "cell_type": "code",
   "execution_count": 75,
   "id": "ffb1f3af",
   "metadata": {},
   "outputs": [
    {
     "name": "stdout",
     "output_type": "stream",
     "text": [
      "Ticket ID                          0\n",
      "Customer Name                      0\n",
      "Customer Email                     0\n",
      "Customer Age                       0\n",
      "Customer Gender                    0\n",
      "Product Purchased                  0\n",
      "Date of Purchase                   0\n",
      "Ticket Type                        0\n",
      "Ticket Subject                     0\n",
      "Ticket Description                 0\n",
      "Ticket Status                      0\n",
      "Resolution                      5700\n",
      "Ticket Priority                    0\n",
      "Ticket Channel                     0\n",
      "First Response Time                0\n",
      "Time to Resolution              8469\n",
      "Customer Satisfaction Rating    5700\n",
      "dtype: int64\n"
     ]
    }
   ],
   "source": [
    "# Fill missing 'First Response Time' with 0 (or another reasonable value)\n",
    "data['First Response Time'].fillna(pd.Timedelta(0), inplace=True)\n",
    "\n",
    "# Fill missing 'Time to Resolution' with the median (or 0 if preferred)\n",
    "data['Time to Resolution'].fillna(data['Time to Resolution'].median(), inplace=True)\n",
    "\n",
    "# For categorical columns, fill with a placeholder like 'Unknown'\n",
    "data['Ticket Type'].fillna('Unknown', inplace=True)\n",
    "data['Product Purchased'].fillna('Unknown', inplace=True)\n",
    "\n",
    "# Check if any missing values remain\n",
    "print(data.isnull().sum())\n"
   ]
  },
  {
   "cell_type": "code",
   "execution_count": 76,
   "id": "7fe71685",
   "metadata": {},
   "outputs": [
    {
     "name": "stdout",
     "output_type": "stream",
     "text": [
      "Training set size: (6775, 27265)\n",
      "Test set size: (1694, 27265)\n"
     ]
    }
   ],
   "source": [
    "# Example: Convert categorical columns into numerical using one-hot encoding\n",
    "data_encoded = pd.get_dummies(data, drop_first=True)\n",
    "\n",
    "# Assuming you've split features and target variables\n",
    "X = data_encoded.drop(columns=['Customer Satisfaction Rating'])  # Exclude target column\n",
    "y = data_encoded['Customer Satisfaction Rating']  # Target variable\n",
    "\n",
    "# Split the data into training and test sets\n",
    "X_train, X_test, y_train, y_test = train_test_split(X, y, test_size=0.2, random_state=42)\n",
    "\n",
    "# Check the shape of the split data\n",
    "print(f\"Training set size: {X_train.shape}\")\n",
    "print(f\"Test set size: {X_test.shape}\")\n",
    "\n"
   ]
  },
  {
   "cell_type": "code",
   "execution_count": 77,
   "id": "e715267b",
   "metadata": {
    "scrolled": true
   },
   "outputs": [
    {
     "name": "stdout",
     "output_type": "stream",
     "text": [
      "Shape of X_train: (6775, 27265)\n",
      "Shape of y_train: (6775,)\n"
     ]
    }
   ],
   "source": [
    "# Verify the shapes of X_train and y_train\n",
    "print(f\"Shape of X_train: {X_train.shape}\")\n",
    "print(f\"Shape of y_train: {y_train.shape}\")\n"
   ]
  },
  {
   "cell_type": "code",
   "execution_count": null,
   "id": "ba098f71",
   "metadata": {},
   "outputs": [],
   "source": []
  },
  {
   "cell_type": "code",
   "execution_count": 78,
   "id": "07cca15c",
   "metadata": {},
   "outputs": [
    {
     "name": "stdout",
     "output_type": "stream",
     "text": [
      "Shape of X_train: (6775, 27265)\n",
      "X_train has 6775 rows and 27265 columns.\n"
     ]
    }
   ],
   "source": [
    "# Step 1: Check if X_train has rows\n",
    "print(\"Shape of X_train:\", X_train.shape)\n",
    "if X_train.shape[0] == 0:\n",
    "    print(\"X_train is empty! There are no rows in the dataset.\")\n",
    "else:\n",
    "    print(f\"X_train has {X_train.shape[0]} rows and {X_train.shape[1]} columns.\")\n"
   ]
  },
  {
   "cell_type": "code",
   "execution_count": 79,
   "id": "072757c8",
   "metadata": {},
   "outputs": [
    {
     "name": "stdout",
     "output_type": "stream",
     "text": [
      "'Time to Resolution' column exists.\n"
     ]
    }
   ],
   "source": [
    "# Check if 'Time to Resolution' column exists in X_train\n",
    "if 'Time to Resolution' in X_train.columns:\n",
    "    print(\"'Time to Resolution' column exists.\")\n",
    "else:\n",
    "    print(\"'Time to Resolution' column does not exist.\")\n",
    "    "
   ]
  },
  {
   "cell_type": "code",
   "execution_count": 80,
   "id": "3b9c764e",
   "metadata": {},
   "outputs": [
    {
     "name": "stdout",
     "output_type": "stream",
     "text": [
      "Shape of X_train: (6775, 27265)\n"
     ]
    }
   ],
   "source": [
    "# Check the shape of X_train before accessing the 'Time to Resolution' column\n",
    "print(\"Shape of X_train:\", X_train.shape)\n"
   ]
  },
  {
   "cell_type": "code",
   "execution_count": 81,
   "id": "e73a1896",
   "metadata": {},
   "outputs": [
    {
     "name": "stdout",
     "output_type": "stream",
     "text": [
      "Columns in X_train: Index(['Ticket ID', 'Customer Age', 'Date of Purchase', 'First Response Time',\n",
      "       'Time to Resolution', 'Customer Name_Aaron Adams',\n",
      "       'Customer Name_Aaron Aguilar', 'Customer Name_Aaron Brown',\n",
      "       'Customer Name_Aaron Carter', 'Customer Name_Aaron Chavez',\n",
      "       ...\n",
      "       'Resolution_Your rule throughout push capital issue.',\n",
      "       'Resolution_Yourself but scene lawyer certainly east.',\n",
      "       'Resolution_Yourself factor open never dinner.',\n",
      "       'Resolution_Yourself thought them both behind reflect character believe.',\n",
      "       'Ticket Priority_High', 'Ticket Priority_Low', 'Ticket Priority_Medium',\n",
      "       'Ticket Channel_Email', 'Ticket Channel_Phone',\n",
      "       'Ticket Channel_Social media'],\n",
      "      dtype='object', length=27265)\n"
     ]
    }
   ],
   "source": [
    "# Check column names to confirm 'Time to Resolution' exists\n",
    "print(\"Columns in X_train:\", X_train.columns)\n"
   ]
  },
  {
   "cell_type": "code",
   "execution_count": 82,
   "id": "6ccb2f13",
   "metadata": {},
   "outputs": [
    {
     "name": "stdout",
     "output_type": "stream",
     "text": [
      "Shape of X_train: (6775, 27265)\n",
      "Columns in X_train: Index(['Ticket ID', 'Customer Age', 'Date of Purchase', 'First Response Time',\n",
      "       'Time to Resolution', 'Customer Name_Aaron Adams',\n",
      "       'Customer Name_Aaron Aguilar', 'Customer Name_Aaron Brown',\n",
      "       'Customer Name_Aaron Carter', 'Customer Name_Aaron Chavez',\n",
      "       ...\n",
      "       'Resolution_Your rule throughout push capital issue.',\n",
      "       'Resolution_Yourself but scene lawyer certainly east.',\n",
      "       'Resolution_Yourself factor open never dinner.',\n",
      "       'Resolution_Yourself thought them both behind reflect character believe.',\n",
      "       'Ticket Priority_High', 'Ticket Priority_Low', 'Ticket Priority_Medium',\n",
      "       'Ticket Channel_Email', 'Ticket Channel_Phone',\n",
      "       'Ticket Channel_Social media'],\n",
      "      dtype='object', length=27265)\n",
      "      Ticket ID  Customer Age Date of Purchase First Response Time  \\\n",
      "2794       2795            26       2021-01-14              0 days   \n",
      "7497       7498            23       2021-01-11              0 days   \n",
      "7646       7647            27       2021-03-28              0 days   \n",
      "2726       2727            20       2021-12-27              0 days   \n",
      "4348       4349            21       2021-08-01              0 days   \n",
      "\n",
      "      Time to Resolution  Customer Name_Aaron Adams  \\\n",
      "2794                 NaN                          0   \n",
      "7497                 NaN                          0   \n",
      "7646                 NaN                          0   \n",
      "2726                 NaN                          0   \n",
      "4348                 NaN                          0   \n",
      "\n",
      "      Customer Name_Aaron Aguilar  Customer Name_Aaron Brown  \\\n",
      "2794                            0                          0   \n",
      "7497                            0                          0   \n",
      "7646                            0                          0   \n",
      "2726                            0                          0   \n",
      "4348                            0                          0   \n",
      "\n",
      "      Customer Name_Aaron Carter  Customer Name_Aaron Chavez  ...  \\\n",
      "2794                           0                           0  ...   \n",
      "7497                           0                           0  ...   \n",
      "7646                           0                           0  ...   \n",
      "2726                           0                           0  ...   \n",
      "4348                           0                           0  ...   \n",
      "\n",
      "      Resolution_Your rule throughout push capital issue.  \\\n",
      "2794                                                  0     \n",
      "7497                                                  0     \n",
      "7646                                                  0     \n",
      "2726                                                  0     \n",
      "4348                                                  0     \n",
      "\n",
      "      Resolution_Yourself but scene lawyer certainly east.  \\\n",
      "2794                                                  0      \n",
      "7497                                                  0      \n",
      "7646                                                  0      \n",
      "2726                                                  0      \n",
      "4348                                                  0      \n",
      "\n",
      "      Resolution_Yourself factor open never dinner.  \\\n",
      "2794                                              0   \n",
      "7497                                              0   \n",
      "7646                                              0   \n",
      "2726                                              0   \n",
      "4348                                              0   \n",
      "\n",
      "      Resolution_Yourself thought them both behind reflect character believe.  \\\n",
      "2794                                                  0                         \n",
      "7497                                                  0                         \n",
      "7646                                                  0                         \n",
      "2726                                                  0                         \n",
      "4348                                                  0                         \n",
      "\n",
      "      Ticket Priority_High  Ticket Priority_Low  Ticket Priority_Medium  \\\n",
      "2794                     0                    0                       1   \n",
      "7497                     0                    0                       0   \n",
      "7646                     1                    0                       0   \n",
      "2726                     0                    0                       1   \n",
      "4348                     0                    1                       0   \n",
      "\n",
      "      Ticket Channel_Email  Ticket Channel_Phone  Ticket Channel_Social media  \n",
      "2794                     0                     0                            0  \n",
      "7497                     0                     0                            1  \n",
      "7646                     0                     1                            0  \n",
      "2726                     0                     1                            0  \n",
      "4348                     0                     1                            0  \n",
      "\n",
      "[5 rows x 27265 columns]\n"
     ]
    }
   ],
   "source": [
    "print(\"Shape of X_train:\", X_train.shape)\n",
    "\n",
    "print(\"Columns in X_train:\", X_train.columns)\n",
    "\n",
    "print(X_train.head())\n"
   ]
  },
  {
   "cell_type": "code",
   "execution_count": 83,
   "id": "b1f02c08",
   "metadata": {},
   "outputs": [],
   "source": [
    "X_train = X_train.drop(columns=['Time to Resolution'])\n",
    "\n",
    "\n"
   ]
  },
  {
   "cell_type": "code",
   "execution_count": 84,
   "id": "1304a9a4",
   "metadata": {},
   "outputs": [
    {
     "name": "stdout",
     "output_type": "stream",
     "text": [
      "Shape of X_train_split: (5420, 27264)\n",
      "Shape of X_test_split: (1355, 27264)\n"
     ]
    }
   ],
   "source": [
    "from sklearn.model_selection import train_test_split\n",
    "\n",
    "# If you have your target variable (y_train), split your dataset\n",
    "X_train_split, X_test_split, y_train_split, y_test_split = train_test_split(\n",
    "    X_train, y_train, test_size=0.2, random_state=42\n",
    ")\n",
    "\n",
    "# Check the shape of your train and test splits\n",
    "print(\"Shape of X_train_split:\", X_train_split.shape)\n",
    "print(\"Shape of X_test_split:\", X_test_split.shape)\n"
   ]
  },
  {
   "cell_type": "code",
   "execution_count": 85,
   "id": "85a77ab9",
   "metadata": {},
   "outputs": [
    {
     "name": "stdout",
     "output_type": "stream",
     "text": [
      "Scaled X_train_split:\n",
      "      Ticket ID  Customer Age Date of Purchase First Response Time  \\\n",
      "5357   0.449929     -0.666514       2020-09-15              0 days   \n",
      "71    -1.708482     -0.470612       2020-09-26              0 days   \n",
      "2448  -0.737891      1.096608       2021-03-30              0 days   \n",
      "1485  -1.131109      1.292511       2021-11-29              0 days   \n",
      "4342   0.035478      0.247697       2020-10-07              0 days   \n",
      "\n",
      "      Customer Name_Aaron Adams  Customer Name_Aaron Aguilar  \\\n",
      "5357                          0                            0   \n",
      "71                            0                            0   \n",
      "2448                          0                            0   \n",
      "1485                          0                            0   \n",
      "4342                          0                            0   \n",
      "\n",
      "      Customer Name_Aaron Brown  Customer Name_Aaron Carter  \\\n",
      "5357                          0                           0   \n",
      "71                            0                           0   \n",
      "2448                          0                           0   \n",
      "1485                          0                           0   \n",
      "4342                          0                           0   \n",
      "\n",
      "      Customer Name_Aaron Chavez  Customer Name_Aaron Dixon  ...  \\\n",
      "5357                           0                          0  ...   \n",
      "71                             0                          0  ...   \n",
      "2448                           0                          0  ...   \n",
      "1485                           0                          0  ...   \n",
      "4342                           0                          0  ...   \n",
      "\n",
      "      Resolution_Your rule throughout push capital issue.  \\\n",
      "5357                                                  0     \n",
      "71                                                    0     \n",
      "2448                                                  0     \n",
      "1485                                                  0     \n",
      "4342                                                  0     \n",
      "\n",
      "      Resolution_Yourself but scene lawyer certainly east.  \\\n",
      "5357                                                  0      \n",
      "71                                                    0      \n",
      "2448                                                  0      \n",
      "1485                                                  0      \n",
      "4342                                                  0      \n",
      "\n",
      "      Resolution_Yourself factor open never dinner.  \\\n",
      "5357                                              0   \n",
      "71                                                0   \n",
      "2448                                              0   \n",
      "1485                                              0   \n",
      "4342                                              0   \n",
      "\n",
      "      Resolution_Yourself thought them both behind reflect character believe.  \\\n",
      "5357                                                  0                         \n",
      "71                                                    0                         \n",
      "2448                                                  0                         \n",
      "1485                                                  0                         \n",
      "4342                                                  0                         \n",
      "\n",
      "      Ticket Priority_High  Ticket Priority_Low  Ticket Priority_Medium  \\\n",
      "5357                     0                    0                       0   \n",
      "71                       0                    0                       1   \n",
      "2448                     0                    1                       0   \n",
      "1485                     0                    1                       0   \n",
      "4342                     0                    1                       0   \n",
      "\n",
      "      Ticket Channel_Email  Ticket Channel_Phone  Ticket Channel_Social media  \n",
      "5357                     0                     0                            1  \n",
      "71                       0                     0                            1  \n",
      "2448                     0                     1                            0  \n",
      "1485                     1                     0                            0  \n",
      "4342                     0                     0                            0  \n",
      "\n",
      "[5 rows x 27264 columns]\n"
     ]
    }
   ],
   "source": [
    "#Scale/Normalize the Features\n",
    "from sklearn.preprocessing import StandardScaler\n",
    "\n",
    "# Select only numerical columns\n",
    "numerical_columns = X_train_split.select_dtypes(include=['float64', 'int64']).columns\n",
    "\n",
    "# Initialize the StandardScaler\n",
    "scaler = StandardScaler()\n",
    "\n",
    "# Scale the numerical columns only\n",
    "X_train_scaled = X_train_split[numerical_columns]\n",
    "X_test_scaled = X_test_split[numerical_columns]\n",
    "\n",
    "X_train_scaled = scaler.fit_transform(X_train_scaled)\n",
    "X_test_scaled = scaler.transform(X_test_scaled)\n",
    "\n",
    "# Replace the original numerical columns with scaled columns\n",
    "X_train_split[numerical_columns] = X_train_scaled\n",
    "X_test_split[numerical_columns] = X_test_scaled\n",
    "\n",
    "# Check the scaled data\n",
    "print(\"Scaled X_train_split:\")\n",
    "print(X_train_split.head())\n",
    "\n"
   ]
  },
  {
   "cell_type": "code",
   "execution_count": 86,
   "id": "8914f1ad",
   "metadata": {},
   "outputs": [
    {
     "name": "stdout",
     "output_type": "stream",
     "text": [
      "Shape of X_train_scaled: (5420, 2)\n",
      "Shape of y_train: (6775,)\n"
     ]
    }
   ],
   "source": [
    "# Print the shapes of the features and target variable\n",
    "print(\"Shape of X_train_scaled:\", X_train_scaled.shape)\n",
    "print(\"Shape of y_train:\", y_train.shape)\n"
   ]
  },
  {
   "cell_type": "code",
   "execution_count": 87,
   "id": "07703609",
   "metadata": {},
   "outputs": [
    {
     "name": "stdout",
     "output_type": "stream",
     "text": [
      "Original shape of X_train: (6775, 27264)\n",
      "Original shape of y_train: (6775,)\n"
     ]
    }
   ],
   "source": [
    "# Check the shapes of the original X_train and y_train\n",
    "print(\"Original shape of X_train:\", X_train.shape)\n",
    "print(\"Original shape of y_train:\", y_train.shape)\n",
    "\n"
   ]
  },
  {
   "cell_type": "code",
   "execution_count": 88,
   "id": "ed700497",
   "metadata": {},
   "outputs": [
    {
     "name": "stdout",
     "output_type": "stream",
     "text": [
      "Shape of X_train_scaled: (6775, 2)\n",
      "Shape of X_train_split: (5420, 2)\n",
      "Shape of X_val_split: (1355, 2)\n",
      "Shape of y_train_split: (5420,)\n",
      "Shape of y_val_split: (1355,)\n"
     ]
    }
   ],
   "source": [
    "# Select only numerical columns for scaling\n",
    "X_train_numeric = X_train.select_dtypes(include=['float64', 'int64'])\n",
    "\n",
    "# Apply scaling to numerical columns\n",
    "scaler = StandardScaler()\n",
    "X_train_scaled = scaler.fit_transform(X_train_numeric)\n",
    "\n",
    "# Now split the data into train and validation sets\n",
    "X_train_split, X_val_split, y_train_split, y_val_split = train_test_split(\n",
    "    X_train_scaled, y_train, test_size=0.2, random_state=42\n",
    ")\n",
    "\n",
    "# Check the shapes\n",
    "print(\"Shape of X_train_scaled:\", X_train_scaled.shape)\n",
    "print(\"Shape of X_train_split:\", X_train_split.shape)\n",
    "print(\"Shape of X_val_split:\", X_val_split.shape)\n",
    "print(\"Shape of y_train_split:\", y_train_split.shape)\n",
    "print(\"Shape of y_val_split:\", y_val_split.shape)\n",
    "\n"
   ]
  },
  {
   "cell_type": "code",
   "execution_count": 89,
   "id": "c52f07d1",
   "metadata": {},
   "outputs": [
    {
     "name": "stdout",
     "output_type": "stream",
     "text": [
      "Numerical columns being scaled: Index(['Ticket ID', 'Customer Age'], dtype='object')\n"
     ]
    }
   ],
   "source": [
    "# Check which columns are being selected for scaling\n",
    "print(\"Numerical columns being scaled:\", X_train.select_dtypes(include=['float64', 'int64']).columns)\n"
   ]
  },
  {
   "cell_type": "code",
   "execution_count": 90,
   "id": "770dce57",
   "metadata": {},
   "outputs": [
    {
     "name": "stdout",
     "output_type": "stream",
     "text": [
      "Ticket ID                                int64\n",
      "Customer Age                             int64\n",
      "Date of Purchase                datetime64[ns]\n",
      "First Response Time            timedelta64[ns]\n",
      "Customer Name_Aaron Adams                uint8\n",
      "                                    ...       \n",
      "Ticket Priority_Low                      uint8\n",
      "Ticket Priority_Medium                   uint8\n",
      "Ticket Channel_Email                     uint8\n",
      "Ticket Channel_Phone                     uint8\n",
      "Ticket Channel_Social media              uint8\n",
      "Length: 27264, dtype: object\n"
     ]
    }
   ],
   "source": [
    "# Check data types of all columns in X_train\n",
    "print(X_train.dtypes)\n"
   ]
  },
  {
   "cell_type": "code",
   "execution_count": 91,
   "id": "6264da01",
   "metadata": {},
   "outputs": [],
   "source": [
    "# Convert 'Date of Purchase' to datetime if it's not already in the correct format\n",
    "X_train['Date of Purchase'] = pd.to_datetime(X_train['Date of Purchase'])\n",
    "\n",
    "# Extract year, month, day, or the number of days since the purchase\n",
    "X_train['Year of Purchase'] = X_train['Date of Purchase'].dt.year\n",
    "X_train['Month of Purchase'] = X_train['Date of Purchase'].dt.month\n",
    "X_train['Day of Purchase'] = X_train['Date of Purchase'].dt.day\n",
    "X_train['Days Since Purchase'] = (pd.to_datetime('today') - X_train['Date of Purchase']).dt.days\n"
   ]
  },
  {
   "cell_type": "code",
   "execution_count": 92,
   "id": "c94c21d6",
   "metadata": {},
   "outputs": [],
   "source": [
    "# Convert 'First Response Time' to seconds or any other desired unit\n",
    "X_train['First Response Time in seconds'] = X_train['First Response Time'].dt.total_seconds()\n"
   ]
  },
  {
   "cell_type": "code",
   "execution_count": 93,
   "id": "0a0d940b",
   "metadata": {},
   "outputs": [],
   "source": [
    "from sklearn.preprocessing import StandardScaler\n",
    "from sklearn.compose import ColumnTransformer\n",
    "from sklearn.pipeline import Pipeline\n",
    "from sklearn.impute import SimpleImputer\n",
    "from sklearn.model_selection import train_test_split\n",
    "\n",
    "# Convert 'Date of Purchase' to numerical features\n",
    "X_train['Date of Purchase'] = pd.to_datetime(X_train['Date of Purchase'])\n",
    "X_train['Year of Purchase'] = X_train['Date of Purchase'].dt.year\n",
    "X_train['Month of Purchase'] = X_train['Date of Purchase'].dt.month\n",
    "X_train['Day of Purchase'] = X_train['Date of Purchase'].dt.day\n",
    "X_train['Days Since Purchase'] = (pd.to_datetime('today') - X_train['Date of Purchase']).dt.days\n",
    "\n",
    "# Convert 'First Response Time' to numerical format (e.g., in seconds)\n",
    "X_train['First Response Time in seconds'] = X_train['First Response Time'].dt.total_seconds()\n",
    "\n",
    "# Now select the correct columns for scaling (after conversion)\n",
    "numerical_columns = X_train.select_dtypes(include=['float64', 'int64']).columns\n",
    "\n",
    "# Apply standard scaling to numerical columns\n",
    "scaler = StandardScaler()\n",
    "X_train_scaled = scaler.fit_transform(X_train[numerical_columns])\n",
    "\n",
    "# If you need to split your data into training and validation sets\n",
    "X_train_split, X_val_split, y_train_split, y_val_split = train_test_split(\n",
    "    X_train_scaled, y_train, test_size=0.2, random_state=42\n",
    ")\n",
    "\n",
    "# Proceed with model training or other steps\n"
   ]
  },
  {
   "cell_type": "code",
   "execution_count": 94,
   "id": "bc66d8d6",
   "metadata": {},
   "outputs": [
    {
     "name": "stdout",
     "output_type": "stream",
     "text": [
      "(5420,)\n",
      "5357    5.0\n",
      "71      NaN\n",
      "2448    NaN\n",
      "1485    NaN\n",
      "4342    5.0\n",
      "Name: Customer Satisfaction Rating, dtype: float64\n"
     ]
    }
   ],
   "source": [
    "print(y_train_split.shape)\n",
    "print(y_train_split.head())  # Display the first few entries of y_train_split\n"
   ]
  },
  {
   "cell_type": "code",
   "execution_count": 95,
   "id": "7e0d9c90",
   "metadata": {},
   "outputs": [],
   "source": [
    "y_train_split = y_train_split.ravel()  # This ensures it's a 1D array\n"
   ]
  },
  {
   "cell_type": "code",
   "execution_count": 96,
   "id": "b0a2ca14",
   "metadata": {},
   "outputs": [
    {
     "name": "stdout",
     "output_type": "stream",
     "text": [
      "(5420, 7)\n"
     ]
    }
   ],
   "source": [
    "print(X_train_split.shape)\n"
   ]
  },
  {
   "cell_type": "code",
   "execution_count": 97,
   "id": "6d4612c2",
   "metadata": {},
   "outputs": [
    {
     "name": "stdout",
     "output_type": "stream",
     "text": [
      "(5420, 7)\n"
     ]
    }
   ],
   "source": [
    "print(X_train_split.shape)  # Check the number of rows and columns\n"
   ]
  },
  {
   "cell_type": "code",
   "execution_count": 98,
   "id": "946efedf",
   "metadata": {},
   "outputs": [
    {
     "name": "stdout",
     "output_type": "stream",
     "text": [
      "0    float64\n",
      "1    float64\n",
      "2    float64\n",
      "3    float64\n",
      "4    float64\n",
      "5    float64\n",
      "6    float64\n",
      "dtype: object\n"
     ]
    }
   ],
   "source": [
    "import pandas as pd\n",
    "X_train_split_df = pd.DataFrame(X_train_split)\n",
    "print(X_train_split_df.dtypes)  # Now you can check the data types\n"
   ]
  },
  {
   "cell_type": "code",
   "execution_count": 99,
   "id": "15cfa2b7",
   "metadata": {},
   "outputs": [
    {
     "name": "stdout",
     "output_type": "stream",
     "text": [
      "0    0\n",
      "1    0\n",
      "2    0\n",
      "3    0\n",
      "4    0\n",
      "5    0\n",
      "6    0\n",
      "dtype: int64\n"
     ]
    }
   ],
   "source": [
    "# Check for missing values in the feature matrix\n",
    "print(pd.DataFrame(X_train_split).isnull().sum())\n",
    "\n",
    "\n"
   ]
  },
  {
   "cell_type": "code",
   "execution_count": 100,
   "id": "44c05392",
   "metadata": {},
   "outputs": [
    {
     "name": "stdout",
     "output_type": "stream",
     "text": [
      "Shape of y_train_split: (5420,)\n",
      "Data type of y_train_split: float64\n"
     ]
    }
   ],
   "source": [
    "print(\"Shape of y_train_split:\", y_train_split.shape)\n",
    "print(\"Data type of y_train_split:\", y_train_split.dtype)\n",
    "\n"
   ]
  },
  {
   "cell_type": "code",
   "execution_count": 101,
   "id": "dac1249e",
   "metadata": {},
   "outputs": [
    {
     "name": "stdout",
     "output_type": "stream",
     "text": [
      "Shape of X_train_split: (5420, 7)\n",
      "First few rows of X_train_split: [[ 0.45933395 -0.66278951 -1.00221648  0.72018824 -0.06050342  0.50616284\n",
      "   0.        ]\n",
      " [-1.71066274 -0.46671079 -1.00221648  0.72018824  1.20146613  0.45407784\n",
      "   0.        ]\n",
      " [-0.73486211  1.10191904  0.99778842 -1.00933571  1.66036414 -0.4218973\n",
      "   0.        ]\n",
      " [-1.13019068  1.29799777  0.99778842  1.29669623  1.54563964 -1.57723749\n",
      "   0.        ]\n",
      " [ 0.04265846  0.25224455 -1.00221648  1.00844223 -0.97829945  0.40199283\n",
      "   0.        ]]\n"
     ]
    }
   ],
   "source": [
    "print(\"Shape of X_train_split:\", X_train_split.shape)\n",
    "print(\"First few rows of X_train_split:\", X_train_split[:5])\n",
    "\n"
   ]
  },
  {
   "cell_type": "code",
   "execution_count": 102,
   "id": "1f25d8fd",
   "metadata": {},
   "outputs": [
    {
     "name": "stdout",
     "output_type": "stream",
     "text": [
      "Any NaN values in X_train_split: False\n",
      "Any infinite values in X_train_split: False\n",
      "Any NaN values in y_train_split: True\n",
      "Any infinite values in y_train_split: False\n"
     ]
    }
   ],
   "source": [
    "print(\"Any NaN values in X_train_split:\", np.any(np.isnan(X_train_split)))\n",
    "print(\"Any infinite values in X_train_split:\", np.any(np.isinf(X_train_split)))\n",
    "\n",
    "print(\"Any NaN values in y_train_split:\", np.any(np.isnan(y_train_split)))\n",
    "print(\"Any infinite values in y_train_split:\", np.any(np.isinf(y_train_split)))\n"
   ]
  },
  {
   "cell_type": "code",
   "execution_count": 103,
   "id": "d5b0cc74",
   "metadata": {},
   "outputs": [
    {
     "data": {
      "text/html": [
       "<style>#sk-container-id-2 {color: black;background-color: white;}#sk-container-id-2 pre{padding: 0;}#sk-container-id-2 div.sk-toggleable {background-color: white;}#sk-container-id-2 label.sk-toggleable__label {cursor: pointer;display: block;width: 100%;margin-bottom: 0;padding: 0.3em;box-sizing: border-box;text-align: center;}#sk-container-id-2 label.sk-toggleable__label-arrow:before {content: \"▸\";float: left;margin-right: 0.25em;color: #696969;}#sk-container-id-2 label.sk-toggleable__label-arrow:hover:before {color: black;}#sk-container-id-2 div.sk-estimator:hover label.sk-toggleable__label-arrow:before {color: black;}#sk-container-id-2 div.sk-toggleable__content {max-height: 0;max-width: 0;overflow: hidden;text-align: left;background-color: #f0f8ff;}#sk-container-id-2 div.sk-toggleable__content pre {margin: 0.2em;color: black;border-radius: 0.25em;background-color: #f0f8ff;}#sk-container-id-2 input.sk-toggleable__control:checked~div.sk-toggleable__content {max-height: 200px;max-width: 100%;overflow: auto;}#sk-container-id-2 input.sk-toggleable__control:checked~label.sk-toggleable__label-arrow:before {content: \"▾\";}#sk-container-id-2 div.sk-estimator input.sk-toggleable__control:checked~label.sk-toggleable__label {background-color: #d4ebff;}#sk-container-id-2 div.sk-label input.sk-toggleable__control:checked~label.sk-toggleable__label {background-color: #d4ebff;}#sk-container-id-2 input.sk-hidden--visually {border: 0;clip: rect(1px 1px 1px 1px);clip: rect(1px, 1px, 1px, 1px);height: 1px;margin: -1px;overflow: hidden;padding: 0;position: absolute;width: 1px;}#sk-container-id-2 div.sk-estimator {font-family: monospace;background-color: #f0f8ff;border: 1px dotted black;border-radius: 0.25em;box-sizing: border-box;margin-bottom: 0.5em;}#sk-container-id-2 div.sk-estimator:hover {background-color: #d4ebff;}#sk-container-id-2 div.sk-parallel-item::after {content: \"\";width: 100%;border-bottom: 1px solid gray;flex-grow: 1;}#sk-container-id-2 div.sk-label:hover label.sk-toggleable__label {background-color: #d4ebff;}#sk-container-id-2 div.sk-serial::before {content: \"\";position: absolute;border-left: 1px solid gray;box-sizing: border-box;top: 0;bottom: 0;left: 50%;z-index: 0;}#sk-container-id-2 div.sk-serial {display: flex;flex-direction: column;align-items: center;background-color: white;padding-right: 0.2em;padding-left: 0.2em;position: relative;}#sk-container-id-2 div.sk-item {position: relative;z-index: 1;}#sk-container-id-2 div.sk-parallel {display: flex;align-items: stretch;justify-content: center;background-color: white;position: relative;}#sk-container-id-2 div.sk-item::before, #sk-container-id-2 div.sk-parallel-item::before {content: \"\";position: absolute;border-left: 1px solid gray;box-sizing: border-box;top: 0;bottom: 0;left: 50%;z-index: -1;}#sk-container-id-2 div.sk-parallel-item {display: flex;flex-direction: column;z-index: 1;position: relative;background-color: white;}#sk-container-id-2 div.sk-parallel-item:first-child::after {align-self: flex-end;width: 50%;}#sk-container-id-2 div.sk-parallel-item:last-child::after {align-self: flex-start;width: 50%;}#sk-container-id-2 div.sk-parallel-item:only-child::after {width: 0;}#sk-container-id-2 div.sk-dashed-wrapped {border: 1px dashed gray;margin: 0 0.4em 0.5em 0.4em;box-sizing: border-box;padding-bottom: 0.4em;background-color: white;}#sk-container-id-2 div.sk-label label {font-family: monospace;font-weight: bold;display: inline-block;line-height: 1.2em;}#sk-container-id-2 div.sk-label-container {text-align: center;}#sk-container-id-2 div.sk-container {/* jupyter's `normalize.less` sets `[hidden] { display: none; }` but bootstrap.min.css set `[hidden] { display: none !important; }` so we also need the `!important` here to be able to override the default hidden behavior on the sphinx rendered scikit-learn.org. See: https://github.com/scikit-learn/scikit-learn/issues/21755 */display: inline-block !important;position: relative;}#sk-container-id-2 div.sk-text-repr-fallback {display: none;}</style><div id=\"sk-container-id-2\" class=\"sk-top-container\"><div class=\"sk-text-repr-fallback\"><pre>RandomForestClassifier(random_state=42)</pre><b>In a Jupyter environment, please rerun this cell to show the HTML representation or trust the notebook. <br />On GitHub, the HTML representation is unable to render, please try loading this page with nbviewer.org.</b></div><div class=\"sk-container\" hidden><div class=\"sk-item\"><div class=\"sk-estimator sk-toggleable\"><input class=\"sk-toggleable__control sk-hidden--visually\" id=\"sk-estimator-id-2\" type=\"checkbox\" checked><label for=\"sk-estimator-id-2\" class=\"sk-toggleable__label sk-toggleable__label-arrow\">RandomForestClassifier</label><div class=\"sk-toggleable__content\"><pre>RandomForestClassifier(random_state=42)</pre></div></div></div></div></div>"
      ],
      "text/plain": [
       "RandomForestClassifier(random_state=42)"
      ]
     },
     "execution_count": 103,
     "metadata": {},
     "output_type": "execute_result"
    }
   ],
   "source": [
    "# Remove rows with NaN values in the target variable\n",
    "X_train_split_clean = X_train_split[~np.isnan(y_train_split)]\n",
    "y_train_split_clean = y_train_split[~np.isnan(y_train_split)]\n",
    "\n",
    "# Now train the model with cleaned data\n",
    "rf_model.fit(X_train_split_clean, y_train_split_clean)\n"
   ]
  },
  {
   "cell_type": "code",
   "execution_count": 104,
   "id": "c222ef94",
   "metadata": {},
   "outputs": [
    {
     "name": "stdout",
     "output_type": "stream",
     "text": [
      "X_train_split shape: (5420, 7), y_train_split shape: (5420,)\n"
     ]
    }
   ],
   "source": [
    "print(f\"X_train_split shape: {X_train_split.shape}, y_train_split shape: {y_train_split.shape}\")\n"
   ]
  },
  {
   "cell_type": "code",
   "execution_count": 105,
   "id": "689bb580",
   "metadata": {},
   "outputs": [
    {
     "name": "stdout",
     "output_type": "stream",
     "text": [
      "Shape of y_train_split: (5420,)\n",
      "Type of y_train_split: <class 'numpy.ndarray'>\n"
     ]
    }
   ],
   "source": [
    "print(f\"Shape of y_train_split: {y_train_split.shape}\")\n",
    "print(f\"Type of y_train_split: {type(y_train_split)}\")\n",
    "\n"
   ]
  },
  {
   "cell_type": "code",
   "execution_count": 106,
   "id": "57c32640",
   "metadata": {},
   "outputs": [
    {
     "name": "stdout",
     "output_type": "stream",
     "text": [
      "Any NaN values in y_train_split: True\n"
     ]
    }
   ],
   "source": [
    "import numpy as np\n",
    "\n",
    "# Check for any NaN values in y_train_split\n",
    "print(f\"Any NaN values in y_train_split: {np.any(np.isnan(y_train_split))}\")\n"
   ]
  },
  {
   "cell_type": "code",
   "execution_count": 107,
   "id": "c4f7608d",
   "metadata": {},
   "outputs": [
    {
     "name": "stdout",
     "output_type": "stream",
     "text": [
      "Any NaN values in y_train_split after removal: False\n"
     ]
    }
   ],
   "source": [
    "# Remove rows where y_train_split has NaN values\n",
    "non_nan_indices = ~np.isnan(y_train_split)\n",
    "\n",
    "# Filter both X_train_split and y_train_split to remove NaN entries\n",
    "X_train_split = X_train_split[non_nan_indices]\n",
    "y_train_split = y_train_split[non_nan_indices]\n",
    "\n",
    "# Verify if NaN values are removed\n",
    "print(f\"Any NaN values in y_train_split after removal: {np.any(np.isnan(y_train_split))}\")\n"
   ]
  },
  {
   "cell_type": "code",
   "execution_count": 108,
   "id": "f0b7f35b",
   "metadata": {},
   "outputs": [
    {
     "data": {
      "text/html": [
       "<style>#sk-container-id-3 {color: black;background-color: white;}#sk-container-id-3 pre{padding: 0;}#sk-container-id-3 div.sk-toggleable {background-color: white;}#sk-container-id-3 label.sk-toggleable__label {cursor: pointer;display: block;width: 100%;margin-bottom: 0;padding: 0.3em;box-sizing: border-box;text-align: center;}#sk-container-id-3 label.sk-toggleable__label-arrow:before {content: \"▸\";float: left;margin-right: 0.25em;color: #696969;}#sk-container-id-3 label.sk-toggleable__label-arrow:hover:before {color: black;}#sk-container-id-3 div.sk-estimator:hover label.sk-toggleable__label-arrow:before {color: black;}#sk-container-id-3 div.sk-toggleable__content {max-height: 0;max-width: 0;overflow: hidden;text-align: left;background-color: #f0f8ff;}#sk-container-id-3 div.sk-toggleable__content pre {margin: 0.2em;color: black;border-radius: 0.25em;background-color: #f0f8ff;}#sk-container-id-3 input.sk-toggleable__control:checked~div.sk-toggleable__content {max-height: 200px;max-width: 100%;overflow: auto;}#sk-container-id-3 input.sk-toggleable__control:checked~label.sk-toggleable__label-arrow:before {content: \"▾\";}#sk-container-id-3 div.sk-estimator input.sk-toggleable__control:checked~label.sk-toggleable__label {background-color: #d4ebff;}#sk-container-id-3 div.sk-label input.sk-toggleable__control:checked~label.sk-toggleable__label {background-color: #d4ebff;}#sk-container-id-3 input.sk-hidden--visually {border: 0;clip: rect(1px 1px 1px 1px);clip: rect(1px, 1px, 1px, 1px);height: 1px;margin: -1px;overflow: hidden;padding: 0;position: absolute;width: 1px;}#sk-container-id-3 div.sk-estimator {font-family: monospace;background-color: #f0f8ff;border: 1px dotted black;border-radius: 0.25em;box-sizing: border-box;margin-bottom: 0.5em;}#sk-container-id-3 div.sk-estimator:hover {background-color: #d4ebff;}#sk-container-id-3 div.sk-parallel-item::after {content: \"\";width: 100%;border-bottom: 1px solid gray;flex-grow: 1;}#sk-container-id-3 div.sk-label:hover label.sk-toggleable__label {background-color: #d4ebff;}#sk-container-id-3 div.sk-serial::before {content: \"\";position: absolute;border-left: 1px solid gray;box-sizing: border-box;top: 0;bottom: 0;left: 50%;z-index: 0;}#sk-container-id-3 div.sk-serial {display: flex;flex-direction: column;align-items: center;background-color: white;padding-right: 0.2em;padding-left: 0.2em;position: relative;}#sk-container-id-3 div.sk-item {position: relative;z-index: 1;}#sk-container-id-3 div.sk-parallel {display: flex;align-items: stretch;justify-content: center;background-color: white;position: relative;}#sk-container-id-3 div.sk-item::before, #sk-container-id-3 div.sk-parallel-item::before {content: \"\";position: absolute;border-left: 1px solid gray;box-sizing: border-box;top: 0;bottom: 0;left: 50%;z-index: -1;}#sk-container-id-3 div.sk-parallel-item {display: flex;flex-direction: column;z-index: 1;position: relative;background-color: white;}#sk-container-id-3 div.sk-parallel-item:first-child::after {align-self: flex-end;width: 50%;}#sk-container-id-3 div.sk-parallel-item:last-child::after {align-self: flex-start;width: 50%;}#sk-container-id-3 div.sk-parallel-item:only-child::after {width: 0;}#sk-container-id-3 div.sk-dashed-wrapped {border: 1px dashed gray;margin: 0 0.4em 0.5em 0.4em;box-sizing: border-box;padding-bottom: 0.4em;background-color: white;}#sk-container-id-3 div.sk-label label {font-family: monospace;font-weight: bold;display: inline-block;line-height: 1.2em;}#sk-container-id-3 div.sk-label-container {text-align: center;}#sk-container-id-3 div.sk-container {/* jupyter's `normalize.less` sets `[hidden] { display: none; }` but bootstrap.min.css set `[hidden] { display: none !important; }` so we also need the `!important` here to be able to override the default hidden behavior on the sphinx rendered scikit-learn.org. See: https://github.com/scikit-learn/scikit-learn/issues/21755 */display: inline-block !important;position: relative;}#sk-container-id-3 div.sk-text-repr-fallback {display: none;}</style><div id=\"sk-container-id-3\" class=\"sk-top-container\"><div class=\"sk-text-repr-fallback\"><pre>RandomForestClassifier(random_state=42)</pre><b>In a Jupyter environment, please rerun this cell to show the HTML representation or trust the notebook. <br />On GitHub, the HTML representation is unable to render, please try loading this page with nbviewer.org.</b></div><div class=\"sk-container\" hidden><div class=\"sk-item\"><div class=\"sk-estimator sk-toggleable\"><input class=\"sk-toggleable__control sk-hidden--visually\" id=\"sk-estimator-id-3\" type=\"checkbox\" checked><label for=\"sk-estimator-id-3\" class=\"sk-toggleable__label sk-toggleable__label-arrow\">RandomForestClassifier</label><div class=\"sk-toggleable__content\"><pre>RandomForestClassifier(random_state=42)</pre></div></div></div></div></div>"
      ],
      "text/plain": [
       "RandomForestClassifier(random_state=42)"
      ]
     },
     "execution_count": 108,
     "metadata": {},
     "output_type": "execute_result"
    }
   ],
   "source": [
    "# Train the Random Forest model\n",
    "rf_model.fit(X_train_split, y_train_split)\n"
   ]
  },
  {
   "cell_type": "code",
   "execution_count": 109,
   "id": "a49327db",
   "metadata": {},
   "outputs": [],
   "source": [
    "# Make predictions on the validation set\n",
    "y_val_pred = rf_model.predict(X_val_split)\n"
   ]
  },
  {
   "cell_type": "code",
   "execution_count": 110,
   "id": "5d028efc",
   "metadata": {},
   "outputs": [
    {
     "name": "stdout",
     "output_type": "stream",
     "text": [
      "Shape of y_val_split: (1355,)\n",
      "Shape of y_val_pred: (1355,)\n"
     ]
    }
   ],
   "source": [
    "#evaluate model performance\n",
    "print(f\"Shape of y_val_split: {y_val_split.shape}\")\n",
    "print(f\"Shape of y_val_pred: {y_val_pred.shape}\")\n"
   ]
  },
  {
   "cell_type": "code",
   "execution_count": 111,
   "id": "b3559014",
   "metadata": {},
   "outputs": [
    {
     "name": "stdout",
     "output_type": "stream",
     "text": [
      "First few predictions: [2. 4. 4. 1. 3. 3. 2. 2. 2. 4.]\n",
      "First few actual values: 2693   NaN\n",
      "4193   NaN\n",
      "2747   NaN\n",
      "7482   NaN\n",
      "1086   NaN\n",
      "5923   NaN\n",
      "4031   NaN\n",
      "7640   NaN\n",
      "6542   NaN\n",
      "494    NaN\n",
      "Name: Customer Satisfaction Rating, dtype: float64\n"
     ]
    }
   ],
   "source": [
    "print(f\"First few predictions: {y_val_pred[:10]}\")\n",
    "print(f\"First few actual values: {y_val_split[:10]}\")\n"
   ]
  },
  {
   "cell_type": "code",
   "execution_count": 112,
   "id": "83e14669",
   "metadata": {},
   "outputs": [],
   "source": [
    "# Remove rows where y_val_split contains NaN values\n",
    "valid_rows = ~y_val_split.isna()  # This creates a boolean mask to filter out NaN rows\n",
    "y_val_split_clean = y_val_split[valid_rows]\n",
    "X_val_split_clean = X_val_split[valid_rows]\n",
    "\n",
    "# If you had a similar issue with the training set, you could apply the same method there\n"
   ]
  },
  {
   "cell_type": "code",
   "execution_count": 113,
   "id": "1f02131f",
   "metadata": {},
   "outputs": [],
   "source": [
    "# Ensure predictions match the cleaned validation set\n",
    "y_val_pred_clean = y_val_pred[valid_rows]\n"
   ]
  },
  {
   "cell_type": "code",
   "execution_count": 114,
   "id": "2c1afaa2",
   "metadata": {},
   "outputs": [
    {
     "name": "stdout",
     "output_type": "stream",
     "text": [
      "First few predictions: [2. 4. 4. 1. 3. 3. 2. 2. 2. 4.]\n"
     ]
    }
   ],
   "source": [
    "print(f\"First few predictions: {y_val_pred[:10]}\")\n"
   ]
  },
  {
   "cell_type": "code",
   "execution_count": 116,
   "id": "abd8927a",
   "metadata": {},
   "outputs": [
    {
     "name": "stdout",
     "output_type": "stream",
     "text": [
      "Accuracy: 0.19111111111111112\n",
      "Classification Report:\n",
      "               precision    recall  f1-score   support\n",
      "\n",
      "         1.0       0.20      0.15      0.17        99\n",
      "         2.0       0.21      0.19      0.20        93\n",
      "         3.0       0.19      0.20      0.20       108\n",
      "         4.0       0.16      0.23      0.19        66\n",
      "         5.0       0.19      0.19      0.19        84\n",
      "\n",
      "    accuracy                           0.19       450\n",
      "   macro avg       0.19      0.19      0.19       450\n",
      "weighted avg       0.19      0.19      0.19       450\n",
      "\n",
      "Confusion Matrix:\n",
      " [[15 16 27 23 18]\n",
      " [18 18 28 13 16]\n",
      " [24 22 22 22 18]\n",
      " [13 11 12 15 15]\n",
      " [ 6 18 24 20 16]]\n"
     ]
    }
   ],
   "source": [
    "# Re-import necessary functions from sklearn\n",
    "from sklearn.metrics import accuracy_score, classification_report, confusion_matrix\n",
    "\n",
    "# Recalculate accuracy and other metrics\n",
    "accuracy = accuracy_score(y_val_split_clean, y_val_pred_clean)\n",
    "print(f\"Accuracy: {accuracy}\")\n",
    "\n",
    "# Print classification report\n",
    "print(\"Classification Report:\\n\", classification_report(y_val_split_clean, y_val_pred_clean))\n",
    "\n",
    "# Print confusion matrix\n",
    "print(\"Confusion Matrix:\\n\", confusion_matrix(y_val_split_clean, y_val_pred_clean))\n"
   ]
  },
  {
   "cell_type": "code",
   "execution_count": 117,
   "id": "929cfcb3",
   "metadata": {},
   "outputs": [
    {
     "name": "stdout",
     "output_type": "stream",
     "text": [
      "Data type of y_val_split: float64\n",
      "Data type of y_val_pred: float64\n"
     ]
    }
   ],
   "source": [
    "#confusion matrix\n",
    "# Check data types of y_val_split and y_val_pred\n",
    "print(f\"Data type of y_val_split: {y_val_split.dtype}\")\n",
    "print(f\"Data type of y_val_pred: {y_val_pred.dtype}\")\n",
    "\n",
    "\n",
    "\n"
   ]
  },
  {
   "cell_type": "code",
   "execution_count": 118,
   "id": "c12458ff",
   "metadata": {},
   "outputs": [
    {
     "name": "stdout",
     "output_type": "stream",
     "text": [
      "Cleaned y_val_split shape: (69,)\n",
      "Cleaned y_val_pred shape: (69,)\n"
     ]
    }
   ],
   "source": [
    "# Remove rows with NaN values from both y_val_split and y_val_pred\n",
    "valid_indices = ~y_val_split.isna() & ~pd.Series(y_val_pred).isna()\n",
    "\n",
    "y_val_split_clean = y_val_split[valid_indices]\n",
    "y_val_pred_clean = pd.Series(y_val_pred)[valid_indices]\n",
    "\n",
    "# Now convert to integer type\n",
    "y_val_split_clean = y_val_split_clean.astype(int)\n",
    "y_val_pred_clean = y_val_pred_clean.astype(int)\n",
    "\n",
    "# Check the cleaned data\n",
    "print(f\"Cleaned y_val_split shape: {y_val_split_clean.shape}\")\n",
    "print(f\"Cleaned y_val_pred shape: {y_val_pred_clean.shape}\")\n"
   ]
  },
  {
   "cell_type": "code",
   "execution_count": 119,
   "id": "826406f0",
   "metadata": {},
   "outputs": [
    {
     "name": "stdout",
     "output_type": "stream",
     "text": [
      "<class 'pandas.core.series.Series'>\n",
      "<class 'numpy.ndarray'>\n",
      "2693   NaN\n",
      "4193   NaN\n",
      "2747   NaN\n",
      "7482   NaN\n",
      "1086   NaN\n",
      "Name: Customer Satisfaction Rating, dtype: float64\n",
      "[2. 4. 4. 1. 3.]\n"
     ]
    }
   ],
   "source": [
    "print(type(y_val_split))\n",
    "print(type(y_val_pred))\n",
    "print(y_val_split[:5])  # Print first few values\n",
    "print(y_val_pred[:5])   # Print first few predicted values\n",
    "\n"
   ]
  },
  {
   "cell_type": "code",
   "execution_count": 120,
   "id": "37941d96",
   "metadata": {},
   "outputs": [
    {
     "name": "stdout",
     "output_type": "stream",
     "text": [
      "Length of y_val_split: 1355\n",
      "Length of y_val_pred: 1355\n"
     ]
    }
   ],
   "source": [
    "print(f\"Length of y_val_split: {len(y_val_split)}\")\n",
    "print(f\"Length of y_val_pred: {len(y_val_pred)}\")\n"
   ]
  },
  {
   "cell_type": "code",
   "execution_count": 121,
   "id": "f64684de",
   "metadata": {},
   "outputs": [
    {
     "name": "stdout",
     "output_type": "stream",
     "text": [
      "Any NaN values in y_val_split: True\n",
      "Any NaN values in y_val_pred: False\n"
     ]
    }
   ],
   "source": [
    "import numpy as np\n",
    "\n",
    "# Check for NaN values in y_val_split (pandas Series)\n",
    "print(f\"Any NaN values in y_val_split: {y_val_split.isna().any()}\")\n",
    "\n",
    "# Check for NaN values in y_val_pred (numpy array)\n",
    "print(f\"Any NaN values in y_val_pred: {np.isnan(y_val_pred).any()}\")\n"
   ]
  },
  {
   "cell_type": "code",
   "execution_count": 122,
   "id": "ee881a08",
   "metadata": {},
   "outputs": [
    {
     "name": "stdout",
     "output_type": "stream",
     "text": [
      "Cleaned X_val_split shape: (450, 7)\n",
      "Cleaned y_val_split shape: (450,)\n"
     ]
    }
   ],
   "source": [
    "# Remove rows where y_val_split has NaN values\n",
    "valid_indices = ~np.isnan(y_val_split)\n",
    "X_val_split_clean = X_val_split[valid_indices]\n",
    "y_val_split_clean = y_val_split[valid_indices]\n",
    "\n",
    "# Check the cleaned shapes\n",
    "print(f\"Cleaned X_val_split shape: {X_val_split_clean.shape}\")\n",
    "print(f\"Cleaned y_val_split shape: {y_val_split_clean.shape}\")\n",
    "\n",
    "# Proceed to re-fit the model with the cleaned data\n"
   ]
  },
  {
   "cell_type": "code",
   "execution_count": 124,
   "id": "566d419d",
   "metadata": {},
   "outputs": [
    {
     "name": "stdout",
     "output_type": "stream",
     "text": [
      "Confusion Matrix:\n",
      "[[15 16 27 23 18]\n",
      " [18 18 28 13 16]\n",
      " [24 22 22 22 18]\n",
      " [13 11 12 15 15]\n",
      " [ 6 18 24 20 16]]\n"
     ]
    },
    {
     "data": {
      "image/png": "[encoded data removed]",
      "text/plain": [
       "<Figure size 640x480 with 2 Axes>"
      ]
     },
     "metadata": {},
     "output_type": "display_data"
    }
   ],
   "source": [
    "from sklearn.metrics import ConfusionMatrixDisplay\n",
    "\n",
    "\n",
    "# Ensure X_val_split_clean corresponds to the cleaned y_val_split_clean\n",
    "X_val_split_clean = X_val_split[y_val_split.notna()]  # Align based on non-NaN values in y_val_split\n",
    "\n",
    "# Regenerate predictions for the cleaned validation set\n",
    "y_val_pred_clean = rf_model.predict(X_val_split_clean)\n",
    "\n",
    "# Now generate the confusion matrix using cleaned data\n",
    "cm = confusion_matrix(y_val_split_clean, y_val_pred_clean)\n",
    "disp = ConfusionMatrixDisplay(confusion_matrix=cm, display_labels=[1, 2, 3, 4, 5])\n",
    "disp.plot(cmap='Blues')\n",
    "\n",
    "# Optionally, print the confusion matrix\n",
    "print(\"Confusion Matrix:\")\n",
    "print(cm)\n",
    "\n"
   ]
  },
  {
   "cell_type": "code",
   "execution_count": 129,
   "id": "99b5eff6",
   "metadata": {},
   "outputs": [
    {
     "name": "stdout",
     "output_type": "stream",
     "text": [
      "Fitting 5 folds for each of 100 candidates, totalling 500 fits\n",
      "Best Hyperparameters found by RandomizedSearchCV: {'n_estimators': 50, 'min_samples_split': 15, 'min_samples_leaf': 2, 'max_features': 'sqrt', 'max_depth': 10, 'bootstrap': True}\n",
      "Accuracy of the tuned model: 0.2311111111111111\n",
      "Classification Report:\n",
      "               precision    recall  f1-score   support\n",
      "\n",
      "         1.0       0.26      0.18      0.21        99\n",
      "         2.0       0.25      0.23      0.24        93\n",
      "         3.0       0.28      0.31      0.29       108\n",
      "         4.0       0.18      0.29      0.22        66\n",
      "         5.0       0.19      0.15      0.17        84\n",
      "\n",
      "    accuracy                           0.23       450\n",
      "   macro avg       0.23      0.23      0.23       450\n",
      "weighted avg       0.24      0.23      0.23       450\n",
      "\n"
     ]
    },
    {
     "data": {
      "text/plain": [
       "<sklearn.metrics._plot.confusion_matrix.ConfusionMatrixDisplay at 0x2140a17fe80>"
      ]
     },
     "execution_count": 129,
     "metadata": {},
     "output_type": "execute_result"
    },
    {
     "data": {
      "image/png": "[encoded data removed]",
      "text/plain": [
       "<Figure size 640x480 with 2 Axes>"
      ]
     },
     "metadata": {},
     "output_type": "display_data"
    }
   ],
   "source": [
    "from sklearn.model_selection import RandomizedSearchCV\n",
    "from sklearn.ensemble import RandomForestClassifier\n",
    "import numpy as np\n",
    "\n",
    "# Define the model\n",
    "rf_model = RandomForestClassifier(random_state=42)\n",
    "\n",
    "# Define the hyperparameters to tune\n",
    "param_dist = {\n",
    "    'n_estimators': [50, 100, 150, 200],  # You can add more values if needed\n",
    "    'max_depth': [None, 10, 20, 30, 40],\n",
    "    'min_samples_split': [2, 5, 10, 15],\n",
    "    'min_samples_leaf': [1, 2, 4],\n",
    "    'max_features': ['auto', 'sqrt', 'log2'],\n",
    "    'bootstrap': [True, False]\n",
    "}\n",
    "\n",
    "# Initialize RandomizedSearchCV with cross-validation\n",
    "# We use 100 iterations for a more limited search; you can increase this number if desired.\n",
    "random_search = RandomizedSearchCV(estimator=rf_model, param_distributions=param_dist, \n",
    "                                   n_iter=100, cv=5, n_jobs=-1, verbose=2, random_state=42)\n",
    "\n",
    "# Fit RandomizedSearchCV to the data\n",
    "random_search.fit(X_train_split, y_train_split)\n",
    "\n",
    "# Get the best hyperparameters from the random search\n",
    "print(\"Best Hyperparameters found by RandomizedSearchCV:\", random_search.best_params_)\n",
    "\n",
    "# Evaluate the model with the best parameters on the validation set\n",
    "best_rf_model = random_search.best_estimator_\n",
    "y_val_pred = best_rf_model.predict(X_val_split_clean)\n",
    "\n",
    "# Evaluate the performance of the tuned model\n",
    "from sklearn.metrics import accuracy_score, classification_report, confusion_matrix\n",
    "\n",
    "# Accuracy\n",
    "accuracy = accuracy_score(y_val_split_clean, y_val_pred)\n",
    "print(f\"Accuracy of the tuned model: {accuracy}\")\n",
    "\n",
    "# Classification report\n",
    "print(\"Classification Report:\\n\", classification_report(y_val_split_clean, y_val_pred))\n",
    "\n",
    "# Confusion Matrix\n",
    "cm = confusion_matrix(y_val_split_clean, y_val_pred)\n",
    "disp = ConfusionMatrixDisplay(confusion_matrix=cm, display_labels=[1, 2, 3, 4, 5])\n",
    "disp.plot(cmap='Blues')\n",
    "\n"
   ]
  },
  {
   "cell_type": "code",
   "execution_count": 130,
   "id": "f5be0051",
   "metadata": {},
   "outputs": [],
   "source": [
    "#to reduce search space\n",
    "param_grid = {\n",
    "    'n_estimators': [100, 150],  # Fewer options for n_estimators\n",
    "    'max_depth': [None, 10],  # Fewer depths\n",
    "    'min_samples_split': [2, 5],\n",
    "    'min_samples_leaf': [1, 2],\n",
    "    'max_features': ['auto'],\n",
    "    'bootstrap': [True]\n",
    "}"
   ]
  },
  {
   "cell_type": "code",
   "execution_count": 131,
   "id": "b6af26e2",
   "metadata": {},
   "outputs": [
    {
     "name": "stderr",
     "output_type": "stream",
     "text": [
      "C:\\ProgramData\\anaconda3\\lib\\site-packages\\sklearn\\model_selection\\_search.py:305: UserWarning: The total space of parameters 16 is smaller than n_iter=100. Running 16 iterations. For exhaustive searches, use GridSearchCV.\n",
      "  warnings.warn(\n"
     ]
    },
    {
     "name": "stdout",
     "output_type": "stream",
     "text": [
      "Fitting 5 folds for each of 16 candidates, totalling 80 fits\n"
     ]
    },
    {
     "name": "stderr",
     "output_type": "stream",
     "text": [
      "C:\\ProgramData\\anaconda3\\lib\\site-packages\\sklearn\\ensemble\\_forest.py:424: FutureWarning: `max_features='auto'` has been deprecated in 1.1 and will be removed in 1.3. To keep the past behaviour, explicitly set `max_features='sqrt'` or remove this parameter as it is also the default value for RandomForestClassifiers and ExtraTreesClassifiers.\n",
      "  warn(\n"
     ]
    },
    {
     "data": {
      "text/html": [
       "<style>#sk-container-id-5 {color: black;background-color: white;}#sk-container-id-5 pre{padding: 0;}#sk-container-id-5 div.sk-toggleable {background-color: white;}#sk-container-id-5 label.sk-toggleable__label {cursor: pointer;display: block;width: 100%;margin-bottom: 0;padding: 0.3em;box-sizing: border-box;text-align: center;}#sk-container-id-5 label.sk-toggleable__label-arrow:before {content: \"▸\";float: left;margin-right: 0.25em;color: #696969;}#sk-container-id-5 label.sk-toggleable__label-arrow:hover:before {color: black;}#sk-container-id-5 div.sk-estimator:hover label.sk-toggleable__label-arrow:before {color: black;}#sk-container-id-5 div.sk-toggleable__content {max-height: 0;max-width: 0;overflow: hidden;text-align: left;background-color: #f0f8ff;}#sk-container-id-5 div.sk-toggleable__content pre {margin: 0.2em;color: black;border-radius: 0.25em;background-color: #f0f8ff;}#sk-container-id-5 input.sk-toggleable__control:checked~div.sk-toggleable__content {max-height: 200px;max-width: 100%;overflow: auto;}#sk-container-id-5 input.sk-toggleable__control:checked~label.sk-toggleable__label-arrow:before {content: \"▾\";}#sk-container-id-5 div.sk-estimator input.sk-toggleable__control:checked~label.sk-toggleable__label {background-color: #d4ebff;}#sk-container-id-5 div.sk-label input.sk-toggleable__control:checked~label.sk-toggleable__label {background-color: #d4ebff;}#sk-container-id-5 input.sk-hidden--visually {border: 0;clip: rect(1px 1px 1px 1px);clip: rect(1px, 1px, 1px, 1px);height: 1px;margin: -1px;overflow: hidden;padding: 0;position: absolute;width: 1px;}#sk-container-id-5 div.sk-estimator {font-family: monospace;background-color: #f0f8ff;border: 1px dotted black;border-radius: 0.25em;box-sizing: border-box;margin-bottom: 0.5em;}#sk-container-id-5 div.sk-estimator:hover {background-color: #d4ebff;}#sk-container-id-5 div.sk-parallel-item::after {content: \"\";width: 100%;border-bottom: 1px solid gray;flex-grow: 1;}#sk-container-id-5 div.sk-label:hover label.sk-toggleable__label {background-color: #d4ebff;}#sk-container-id-5 div.sk-serial::before {content: \"\";position: absolute;border-left: 1px solid gray;box-sizing: border-box;top: 0;bottom: 0;left: 50%;z-index: 0;}#sk-container-id-5 div.sk-serial {display: flex;flex-direction: column;align-items: center;background-color: white;padding-right: 0.2em;padding-left: 0.2em;position: relative;}#sk-container-id-5 div.sk-item {position: relative;z-index: 1;}#sk-container-id-5 div.sk-parallel {display: flex;align-items: stretch;justify-content: center;background-color: white;position: relative;}#sk-container-id-5 div.sk-item::before, #sk-container-id-5 div.sk-parallel-item::before {content: \"\";position: absolute;border-left: 1px solid gray;box-sizing: border-box;top: 0;bottom: 0;left: 50%;z-index: -1;}#sk-container-id-5 div.sk-parallel-item {display: flex;flex-direction: column;z-index: 1;position: relative;background-color: white;}#sk-container-id-5 div.sk-parallel-item:first-child::after {align-self: flex-end;width: 50%;}#sk-container-id-5 div.sk-parallel-item:last-child::after {align-self: flex-start;width: 50%;}#sk-container-id-5 div.sk-parallel-item:only-child::after {width: 0;}#sk-container-id-5 div.sk-dashed-wrapped {border: 1px dashed gray;margin: 0 0.4em 0.5em 0.4em;box-sizing: border-box;padding-bottom: 0.4em;background-color: white;}#sk-container-id-5 div.sk-label label {font-family: monospace;font-weight: bold;display: inline-block;line-height: 1.2em;}#sk-container-id-5 div.sk-label-container {text-align: center;}#sk-container-id-5 div.sk-container {/* jupyter's `normalize.less` sets `[hidden] { display: none; }` but bootstrap.min.css set `[hidden] { display: none !important; }` so we also need the `!important` here to be able to override the default hidden behavior on the sphinx rendered scikit-learn.org. See: https://github.com/scikit-learn/scikit-learn/issues/21755 */display: inline-block !important;position: relative;}#sk-container-id-5 div.sk-text-repr-fallback {display: none;}</style><div id=\"sk-container-id-5\" class=\"sk-top-container\"><div class=\"sk-text-repr-fallback\"><pre>RandomizedSearchCV(cv=5, estimator=RandomForestClassifier(random_state=42),\n",
       "                   n_iter=100, n_jobs=-1,\n",
       "                   param_distributions={&#x27;bootstrap&#x27;: [True],\n",
       "                                        &#x27;max_depth&#x27;: [None, 10],\n",
       "                                        &#x27;max_features&#x27;: [&#x27;auto&#x27;],\n",
       "                                        &#x27;min_samples_leaf&#x27;: [1, 2],\n",
       "                                        &#x27;min_samples_split&#x27;: [2, 5],\n",
       "                                        &#x27;n_estimators&#x27;: [100, 150]},\n",
       "                   verbose=2)</pre><b>In a Jupyter environment, please rerun this cell to show the HTML representation or trust the notebook. <br />On GitHub, the HTML representation is unable to render, please try loading this page with nbviewer.org.</b></div><div class=\"sk-container\" hidden><div class=\"sk-item sk-dashed-wrapped\"><div class=\"sk-label-container\"><div class=\"sk-label sk-toggleable\"><input class=\"sk-toggleable__control sk-hidden--visually\" id=\"sk-estimator-id-7\" type=\"checkbox\" ><label for=\"sk-estimator-id-7\" class=\"sk-toggleable__label sk-toggleable__label-arrow\">RandomizedSearchCV</label><div class=\"sk-toggleable__content\"><pre>RandomizedSearchCV(cv=5, estimator=RandomForestClassifier(random_state=42),\n",
       "                   n_iter=100, n_jobs=-1,\n",
       "                   param_distributions={&#x27;bootstrap&#x27;: [True],\n",
       "                                        &#x27;max_depth&#x27;: [None, 10],\n",
       "                                        &#x27;max_features&#x27;: [&#x27;auto&#x27;],\n",
       "                                        &#x27;min_samples_leaf&#x27;: [1, 2],\n",
       "                                        &#x27;min_samples_split&#x27;: [2, 5],\n",
       "                                        &#x27;n_estimators&#x27;: [100, 150]},\n",
       "                   verbose=2)</pre></div></div></div><div class=\"sk-parallel\"><div class=\"sk-parallel-item\"><div class=\"sk-item\"><div class=\"sk-label-container\"><div class=\"sk-label sk-toggleable\"><input class=\"sk-toggleable__control sk-hidden--visually\" id=\"sk-estimator-id-8\" type=\"checkbox\" ><label for=\"sk-estimator-id-8\" class=\"sk-toggleable__label sk-toggleable__label-arrow\">estimator: RandomForestClassifier</label><div class=\"sk-toggleable__content\"><pre>RandomForestClassifier(random_state=42)</pre></div></div></div><div class=\"sk-serial\"><div class=\"sk-item\"><div class=\"sk-estimator sk-toggleable\"><input class=\"sk-toggleable__control sk-hidden--visually\" id=\"sk-estimator-id-9\" type=\"checkbox\" ><label for=\"sk-estimator-id-9\" class=\"sk-toggleable__label sk-toggleable__label-arrow\">RandomForestClassifier</label><div class=\"sk-toggleable__content\"><pre>RandomForestClassifier(random_state=42)</pre></div></div></div></div></div></div></div></div></div></div>"
      ],
      "text/plain": [
       "RandomizedSearchCV(cv=5, estimator=RandomForestClassifier(random_state=42),\n",
       "                   n_iter=100, n_jobs=-1,\n",
       "                   param_distributions={'bootstrap': [True],\n",
       "                                        'max_depth': [None, 10],\n",
       "                                        'max_features': ['auto'],\n",
       "                                        'min_samples_leaf': [1, 2],\n",
       "                                        'min_samples_split': [2, 5],\n",
       "                                        'n_estimators': [100, 150]},\n",
       "                   verbose=2)"
      ]
     },
     "execution_count": 131,
     "metadata": {},
     "output_type": "execute_result"
    }
   ],
   "source": [
    "from sklearn.model_selection import RandomizedSearchCV\n",
    "\n",
    "random_search = RandomizedSearchCV(estimator=rf_model, param_distributions=param_grid, n_iter=100, cv=5, n_jobs=-1, verbose=2)\n",
    "random_search.fit(X_train_split, y_train_split)\n"
   ]
  },
  {
   "cell_type": "code",
   "execution_count": 133,
   "id": "aefe6a01",
   "metadata": {},
   "outputs": [
    {
     "name": "stdout",
     "output_type": "stream",
     "text": [
      "Best Hyperparameters found by RandomizedSearchCV: {'bootstrap': True, 'max_depth': 10, 'max_features': 'auto', 'min_samples_leaf': 2, 'min_samples_split': 6, 'n_estimators': 121}\n",
      "Accuracy of the tuned model: 0.22\n",
      "Classification Report:\n",
      "               precision    recall  f1-score   support\n",
      "\n",
      "         1.0       0.22      0.15      0.18        99\n",
      "         2.0       0.23      0.16      0.19        93\n",
      "         3.0       0.27      0.31      0.29       108\n",
      "         4.0       0.19      0.33      0.24        66\n",
      "         5.0       0.16      0.15      0.16        84\n",
      "\n",
      "    accuracy                           0.22       450\n",
      "   macro avg       0.22      0.22      0.21       450\n",
      "weighted avg       0.22      0.22      0.21       450\n",
      "\n"
     ]
    },
    {
     "data": {
      "text/plain": [
       "<sklearn.metrics._plot.confusion_matrix.ConfusionMatrixDisplay at 0x214089adf00>"
      ]
     },
     "execution_count": 133,
     "metadata": {},
     "output_type": "execute_result"
    },
    {
     "data": {
      "image/png": "[encoded data removed]",
      "text/plain": [
       "<Figure size 640x480 with 2 Axes>"
      ]
     },
     "metadata": {},
     "output_type": "display_data"
    }
   ],
   "source": [
    "from sklearn.metrics import accuracy_score, classification_report, confusion_matrix, ConfusionMatrixDisplay\n",
    "\n",
    "# Print the best parameters found by RandomizedSearchCV\n",
    "print(\"Best Hyperparameters found by RandomizedSearchCV:\", random_search.best_params_)\n",
    "\n",
    "# Use the best estimator from the search for predictions\n",
    "best_rf_model = random_search.best_estimator_\n",
    "\n",
    "# Generate predictions for the cleaned validation set\n",
    "y_val_pred = best_rf_model.predict(X_val_split_clean)\n",
    "\n",
    "# Calculate accuracy and print it\n",
    "accuracy = accuracy_score(y_val_split_clean, y_val_pred)\n",
    "print(f\"Accuracy of the tuned model: {accuracy}\")\n",
    "\n",
    "# Print the classification report for precision, recall, and f1-score\n",
    "print(\"Classification Report:\\n\", classification_report(y_val_split_clean, y_val_pred))\n",
    "\n",
    "# Generate and display the confusion matrix\n",
    "cm = confusion_matrix(y_val_split_clean, y_val_pred)\n",
    "disp = ConfusionMatrixDisplay(confusion_matrix=cm, display_labels=[1, 2, 3, 4, 5])\n",
    "disp.plot(cmap='Blues')\n"
   ]
  },
  {
   "cell_type": "code",
   "execution_count": 135,
   "id": "1946d173",
   "metadata": {},
   "outputs": [
    {
     "data": {
      "text/plain": [
       "['final_rf_model.joblib']"
      ]
     },
     "execution_count": 135,
     "metadata": {},
     "output_type": "execute_result"
    }
   ],
   "source": [
    "import joblib\n",
    "joblib.dump(best_rf_model, 'final_rf_model.joblib')\n"
   ]
  },
  {
   "cell_type": "code",
   "execution_count": 137,
   "id": "8a7c6031",
   "metadata": {},
   "outputs": [
    {
     "name": "stdout",
     "output_type": "stream",
     "text": [
      "[4. 1. 1. 1. 3. 4. 4. 4. 4. 2. 5. 5. 2. 4. 1. 2. 5. 1. 2. 2. 2. 2. 1. 4.\n",
      " 2. 4. 5. 3. 4. 3. 4. 3. 2. 3. 3. 3. 3. 5. 1. 4. 4. 5. 2. 2. 3. 3. 5. 4.\n",
      " 3. 3. 4. 5. 5. 5. 2. 3. 3. 4. 5. 2. 1. 2. 4. 4. 1. 3. 5. 3. 5. 2. 4. 4.\n",
      " 3. 4. 5. 3. 4. 2. 5. 4. 1. 5. 3. 3. 5. 3. 4. 2. 4. 3. 2. 3. 4. 4. 5. 2.\n",
      " 3. 5. 3. 2. 1. 1. 3. 1. 5. 5. 2. 4. 5. 4. 4. 5. 4. 4. 4. 1. 4. 3. 4. 4.\n",
      " 3. 3. 3. 3. 3. 3. 5. 1. 4. 4. 3. 3. 2. 3. 2. 4. 2. 4. 5. 4. 3. 3. 5. 5.\n",
      " 3. 4. 1. 5. 1. 3. 3. 5. 5. 1. 2. 3. 1. 3. 3. 1. 1. 3. 5. 4. 1. 3. 5. 1.\n",
      " 4. 3. 4. 1. 3. 1. 4. 2. 4. 3. 3. 1. 1. 4. 2. 5. 4. 4. 4. 4. 4. 5. 2. 5.\n",
      " 3. 3. 3. 4. 3. 4. 3. 1. 5. 1. 4. 3. 2. 5. 4. 3. 5. 5. 1. 2. 1. 3. 4. 5.\n",
      " 5. 2. 2. 2. 2. 5. 3. 4. 3. 4. 5. 2. 4. 3. 2. 4. 4. 4. 1. 3. 1. 3. 5. 4.\n",
      " 3. 4. 4. 2. 5. 3. 4. 4. 5. 5. 4. 5. 1. 3. 4. 3. 4. 3. 5. 5. 1. 3. 3. 5.\n",
      " 1. 5. 4. 4. 3. 2. 1. 4. 4. 5. 2. 5. 3. 3. 5. 2. 2. 1. 3. 5. 4. 2. 4. 4.\n",
      " 3. 2. 4. 3. 1. 5. 4. 4. 3. 5. 3. 3. 3. 3. 1. 4. 2. 5. 4. 1. 1. 3. 3. 5.\n",
      " 3. 1. 3. 3. 1. 3. 3. 2. 2. 2. 1. 1. 1. 4. 2. 3. 4. 1. 4. 3. 4. 1. 4. 3.\n",
      " 4. 2. 1. 4. 5. 5. 2. 3. 4. 3. 5. 2. 5. 4. 3. 4. 2. 1. 2. 1. 5. 3. 4. 3.\n",
      " 3. 1. 3. 2. 4. 3. 4. 4. 4. 5. 4. 1. 4. 3. 3. 1. 3. 3. 4. 5. 2. 3. 5. 2.\n",
      " 3. 5. 2. 1. 3. 5. 1. 4. 5. 3. 3. 1. 4. 4. 3. 2. 4. 1. 3. 3. 5. 2. 3. 2.\n",
      " 5. 3. 1. 1. 4. 1. 3. 3. 1. 4. 5. 1. 4. 2. 4. 2. 5. 3. 3. 1. 2. 2. 3. 5.\n",
      " 4. 1. 3. 5. 4. 1. 3. 2. 5. 4. 3. 4. 3. 4. 5. 3. 3. 3.]\n"
     ]
    }
   ],
   "source": [
    "# Load the model\n",
    "loaded_rf_model = joblib.load('final_rf_model.joblib')\n",
    "\n",
    "# Predict on validation data\n",
    "predictions = loaded_rf_model.predict(X_val_split_clean)\n",
    "\n",
    "# Print predictions\n",
    "print(predictions)\n"
   ]
  },
  {
   "cell_type": "code",
   "execution_count": 138,
   "id": "1b0cd69f",
   "metadata": {},
   "outputs": [],
   "source": [
    "#store predictions\n",
    "import pandas as pd\n",
    "\n",
    "# Assuming y_val_split_clean contains the actual labels for validation\n",
    "results_df = pd.DataFrame({'Actual': y_val_split_clean, 'Predicted': y_val_pred})\n",
    "results_df.to_csv('predictions_vs_actuals.csv', index=False)\n"
   ]
  },
  {
   "cell_type": "code",
   "execution_count": 139,
   "id": "6f0c40e0",
   "metadata": {},
   "outputs": [
    {
     "name": "stdout",
     "output_type": "stream",
     "text": [
      "Model Accuracy: 0.22\n",
      "Classification Report:\n",
      "               precision    recall  f1-score   support\n",
      "\n",
      "         1.0       0.22      0.15      0.18        99\n",
      "         2.0       0.23      0.16      0.19        93\n",
      "         3.0       0.27      0.31      0.29       108\n",
      "         4.0       0.19      0.33      0.24        66\n",
      "         5.0       0.16      0.15      0.16        84\n",
      "\n",
      "    accuracy                           0.22       450\n",
      "   macro avg       0.22      0.22      0.21       450\n",
      "weighted avg       0.22      0.22      0.21       450\n",
      "\n"
     ]
    },
    {
     "data": {
      "text/plain": [
       "<sklearn.metrics._plot.confusion_matrix.ConfusionMatrixDisplay at 0x2140e8fd7e0>"
      ]
     },
     "execution_count": 139,
     "metadata": {},
     "output_type": "execute_result"
    },
    {
     "data": {
      "image/png": "[encoded data removed]",
      "text/plain": [
       "<Figure size 640x480 with 2 Axes>"
      ]
     },
     "metadata": {},
     "output_type": "display_data"
    }
   ],
   "source": [
    "#evaluate predictions\n",
    "from sklearn.metrics import classification_report, accuracy_score, confusion_matrix, ConfusionMatrixDisplay\n",
    "\n",
    "# Calculate and print accuracy\n",
    "accuracy = accuracy_score(y_val_split_clean, y_val_pred)\n",
    "print(f\"Model Accuracy: {accuracy}\")\n",
    "\n",
    "# Print classification report for precision, recall, f1-score, etc.\n",
    "print(\"Classification Report:\\n\", classification_report(y_val_split_clean, y_val_pred))\n",
    "\n",
    "# Display the confusion matrix\n",
    "cm = confusion_matrix(y_val_split_clean, y_val_pred)\n",
    "disp = ConfusionMatrixDisplay(confusion_matrix=cm, display_labels=[1, 2, 3, 4, 5])\n",
    "disp.plot(cmap='Blues')\n"
   ]
  },
  {
   "cell_type": "code",
   "execution_count": 140,
   "id": "007bd183",
   "metadata": {},
   "outputs": [
    {
     "data": {
      "text/plain": [
       "['predictions.joblib']"
      ]
     },
     "execution_count": 140,
     "metadata": {},
     "output_type": "execute_result"
    }
   ],
   "source": [
    "#save predictions\n",
    "import joblib\n",
    "joblib.dump(y_val_pred, 'predictions.joblib')\n"
   ]
  },
  {
   "cell_type": "code",
   "execution_count": null,
   "id": "f708de1d",
   "metadata": {},
   "outputs": [],
   "source": []
  }
 ],
 "metadata": {
  "kernelspec": {
   "display_name": "Python 3 (ipykernel)",
   "language": "python",
   "name": "python3"
  },
  "language_info": {
   "codemirror_mode": {
    "name": "ipython",
    "version": 3
   },
   "file_extension": ".py",
   "mimetype": "text/x-python",
   "name": "python",
   "nbconvert_exporter": "python",
   "pygments_lexer": "ipython3",
   "version": "3.10.9"
  }
 },
 "nbformat": 4,
 "nbformat_minor": 5
}
